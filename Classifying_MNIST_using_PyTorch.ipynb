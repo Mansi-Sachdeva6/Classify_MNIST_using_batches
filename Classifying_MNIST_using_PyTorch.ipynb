{
  "cells": [
    {
      "cell_type": "code",
      "execution_count": 1,
      "metadata": {
        "id": "TVpCgF2PYS_M"
      },
      "outputs": [
        {
          "name": "stdout",
          "output_type": "stream",
          "text": [
            "Downloading http://yann.lecun.com/exdb/mnist/train-images-idx3-ubyte.gz\n",
            "Failed to download (trying next):\n",
            "<urlopen error [SSL: CERTIFICATE_VERIFY_FAILED] certificate verify failed: certificate has expired (_ssl.c:1000)>\n",
            "\n",
            "Downloading https://ossci-datasets.s3.amazonaws.com/mnist/train-images-idx3-ubyte.gz\n",
            "Downloading https://ossci-datasets.s3.amazonaws.com/mnist/train-images-idx3-ubyte.gz to data\\MNIST\\raw\\train-images-idx3-ubyte.gz\n"
          ]
        },
        {
          "name": "stderr",
          "output_type": "stream",
          "text": [
            "100%|██████████| 9912422/9912422 [00:25<00:00, 386347.01it/s] \n"
          ]
        },
        {
          "name": "stdout",
          "output_type": "stream",
          "text": [
            "Extracting data\\MNIST\\raw\\train-images-idx3-ubyte.gz to data\\MNIST\\raw\n",
            "\n",
            "Downloading http://yann.lecun.com/exdb/mnist/train-labels-idx1-ubyte.gz\n",
            "Failed to download (trying next):\n",
            "<urlopen error [SSL: CERTIFICATE_VERIFY_FAILED] certificate verify failed: certificate has expired (_ssl.c:1000)>\n",
            "\n",
            "Downloading https://ossci-datasets.s3.amazonaws.com/mnist/train-labels-idx1-ubyte.gz\n",
            "Downloading https://ossci-datasets.s3.amazonaws.com/mnist/train-labels-idx1-ubyte.gz to data\\MNIST\\raw\\train-labels-idx1-ubyte.gz\n"
          ]
        },
        {
          "name": "stderr",
          "output_type": "stream",
          "text": [
            "100%|██████████| 28881/28881 [00:02<00:00, 13102.83it/s]\n"
          ]
        },
        {
          "name": "stdout",
          "output_type": "stream",
          "text": [
            "Extracting data\\MNIST\\raw\\train-labels-idx1-ubyte.gz to data\\MNIST\\raw\n",
            "\n",
            "Downloading http://yann.lecun.com/exdb/mnist/t10k-images-idx3-ubyte.gz\n",
            "Failed to download (trying next):\n",
            "<urlopen error [SSL: CERTIFICATE_VERIFY_FAILED] certificate verify failed: certificate has expired (_ssl.c:1000)>\n",
            "\n",
            "Downloading https://ossci-datasets.s3.amazonaws.com/mnist/t10k-images-idx3-ubyte.gz\n",
            "Downloading https://ossci-datasets.s3.amazonaws.com/mnist/t10k-images-idx3-ubyte.gz to data\\MNIST\\raw\\t10k-images-idx3-ubyte.gz\n"
          ]
        },
        {
          "name": "stderr",
          "output_type": "stream",
          "text": [
            "100%|██████████| 1648877/1648877 [00:10<00:00, 162694.36it/s]\n"
          ]
        },
        {
          "name": "stdout",
          "output_type": "stream",
          "text": [
            "Extracting data\\MNIST\\raw\\t10k-images-idx3-ubyte.gz to data\\MNIST\\raw\n",
            "\n",
            "Downloading http://yann.lecun.com/exdb/mnist/t10k-labels-idx1-ubyte.gz\n",
            "Failed to download (trying next):\n",
            "<urlopen error [SSL: CERTIFICATE_VERIFY_FAILED] certificate verify failed: certificate has expired (_ssl.c:1000)>\n",
            "\n",
            "Downloading https://ossci-datasets.s3.amazonaws.com/mnist/t10k-labels-idx1-ubyte.gz\n",
            "Downloading https://ossci-datasets.s3.amazonaws.com/mnist/t10k-labels-idx1-ubyte.gz to data\\MNIST\\raw\\t10k-labels-idx1-ubyte.gz\n"
          ]
        },
        {
          "name": "stderr",
          "output_type": "stream",
          "text": [
            "100%|██████████| 4542/4542 [00:00<00:00, 4199852.02it/s]\n"
          ]
        },
        {
          "name": "stdout",
          "output_type": "stream",
          "text": [
            "Extracting data\\MNIST\\raw\\t10k-labels-idx1-ubyte.gz to data\\MNIST\\raw\n",
            "\n"
          ]
        }
      ],
      "source": [
        "import numpy as np\n",
        "import matplotlib.pyplot as plt\n",
        "import torch\n",
        "from torch import nn\n",
        "\n",
        "import torchvision\n",
        "from torchvision import datasets\n",
        "from torchvision import transforms\n",
        "from torchvision.transforms import ToTensor\n",
        "\n",
        "#Setup training Data\n",
        "train_data = datasets.MNIST(\n",
        "    root=\"data\", # where to download data to ?\n",
        "    train=True,  # do we want the training dataset?\n",
        "    download=True, # do we want to download it?\n",
        "    transform=torchvision.transforms.ToTensor(),  # how we want to transform the data?\n",
        "    target_transform=None  # how do we want to transform the lables?\n",
        ")\n",
        "\n",
        "test_data = datasets.MNIST(\n",
        "    root=\"data\",\n",
        "    train=False,\n",
        "    download=True,\n",
        "    transform=torchvision.transforms.ToTensor(),\n",
        "    target_transform=None\n",
        ")"
      ]
    },
    {
      "cell_type": "code",
      "execution_count": 22,
      "metadata": {
        "colab": {
          "base_uri": "https://localhost:8080/"
        },
        "id": "aIL0tSg7dp00",
        "outputId": "6ffa0271-5c64-4634-9bd9-e0123af96672"
      },
      "outputs": [
        {
          "name": "stdout",
          "output_type": "stream",
          "text": [
            "The shape of downloaded image is torch.Size([1, 28, 28]) which is a Tensor object and the label is 5 which is an int object.\n",
            "------------------------\n",
            "Different classes in dataset we have are as follows :\n",
            " ['0 - zero', '1 - one', '2 - two', '3 - three', '4 - four', '5 - five', '6 - six', '7 - seven', '8 - eight', '9 - nine']\n",
            "------------------------\n",
            "No. of (images,label) we have in training set is 60000\n",
            "------------------------\n",
            "No. of (images,label) we have in test set is 10000\n"
          ]
        }
      ],
      "source": [
        "#Little bit of Data Exploration\n",
        "image,label = train_data[0]\n",
        "print(f\"The shape of downloaded image is {image.shape} which is a Tensor object and the label is {label} which is an int object.\")\n",
        "print(\"------------------------\")\n",
        "print(f\"Different classes in dataset we have are as follows :\\n {train_data.classes}\")\n",
        "print(\"------------------------\")\n",
        "print(f\"No. of (images,label) we have in training set is {len(train_data)}\")\n",
        "print(\"------------------------\")\n",
        "print(f\"No. of (images,label) we have in test set is {len(test_data)}\")"
      ]
    },
    {
      "cell_type": "code",
      "execution_count": 21,
      "metadata": {
        "colab": {
          "base_uri": "https://localhost:8080/",
          "height": 469
        },
        "id": "JiXN-AxGFYzP",
        "outputId": "76f5b68c-8501-4846-842a-7ff2f5b6d9ec"
      },
      "outputs": [
        {
          "data": {
            "image/png": "[encoded data removed]",
            "text/plain": [
              "<Figure size 640x480 with 1 Axes>"
            ]
          },
          "metadata": {},
          "output_type": "display_data"
        }
      ],
      "source": [
        "#Viewing our data\n",
        "plt.imshow(image.squeeze(), cmap=\"gray\")   #we're squeezing to remove that extra one dimension: [1,28,28] -> [28,28]\n",
        "plt.title(label)\n",
        "plt.show()"
      ]
    },
    {
      "cell_type": "code",
      "execution_count": 24,
      "metadata": {
        "id": "C5rSNMb_eFp4"
      },
      "outputs": [],
      "source": [
        "#For dividing training set into train and validation set\n",
        "from torch.utils.data import random_split\n",
        "\n",
        "# Define the lengths for training and validation\n",
        "train_size = int(0.8 * len(train_data))  # 80% for training\n",
        "val_size = len(train_data) - train_size   # 20% for validation\n",
        "\n",
        "# Randomly split dataset\n",
        "train_dataset, val_dataset = random_split(train_data, [train_size, val_size])"
      ]
    },
    {
      "cell_type": "code",
      "execution_count": 32,
      "metadata": {
        "colab": {
          "base_uri": "https://localhost:8080/"
        },
        "id": "Mji8EPnwGVA2",
        "outputId": "5606075c-12af-4aeb-8a8f-6328a6b9717a"
      },
      "outputs": [
        {
          "name": "stdout",
          "output_type": "stream",
          "text": [
            "Dataloaders: (<torch.utils.data.dataloader.DataLoader object at 0x000001F6104FC5C0>, <torch.utils.data.dataloader.DataLoader object at 0x000001F60E1C5D30>, <torch.utils.data.dataloader.DataLoader object at 0x000001F6104FC290>)\n",
            "Length of train dataloader: 1500 batches of 32\n",
            "Length of val dataloader: 375 batches of 32\n",
            "Length of test dataloader: 313 batches of 32\n",
            "------------------------\n",
            "DataLoader doesn't have a direct shape attribute because it’s more of an iterator and is not defined like a tensor, but its contents (the batches) do have shapes.\n",
            "------------------------\n",
            "Shape of image in a DataLoader is torch.Size([32, 1, 28, 28])\n",
            "Shape of label in a DataLoader is torch.Size([32])\n",
            "Now see we have one more dimension in image that contains nothing but the batch size. \n",
            "Also the label is now an 1D Tensor\n"
          ]
        }
      ],
      "source": [
        "#Let's create a DataLoader's for our train, validation and test sets\n",
        "\n",
        "from torch.utils.data import DataLoader\n",
        "\n",
        "# Setup batch size hyperparameter\n",
        "BATCH_SIZE = 32\n",
        "\n",
        "# Turn datasets into iterables (batches)\n",
        "train_dataloader = DataLoader(train_dataset, # dataset to turn into iterable\n",
        "                              batch_size=BATCH_SIZE,# how many samples per batch?\n",
        "                              shuffle=True)# shuffle data every epoch?\n",
        "val_dataloader = DataLoader(val_dataset, batch_size=BATCH_SIZE, shuffle=False)\n",
        "test_dataloader = DataLoader(test_data, batch_size=BATCH_SIZE, shuffle=False)\n",
        "\n",
        "#Let's checkout what we've created\n",
        "print(f\"Dataloaders: {train_dataloader,val_dataloader, test_dataloader}\")\n",
        "print(f\"Length of train dataloader: {len(train_dataloader)} batches of {BATCH_SIZE}\")\n",
        "print(f\"Length of val dataloader: {len(val_dataloader)} batches of {BATCH_SIZE}\")\n",
        "print(f\"Length of test dataloader: {len(test_dataloader)} batches of {BATCH_SIZE}\")\n",
        "print(\"------------------------\")\n",
        "print(\"DataLoader doesn't have a direct shape attribute because it’s more of an iterator and is not defined like a tensor, but its contents (the batches) do have shapes.\")\n",
        "print(\"------------------------\")\n",
        "for image,label in train_dataloader:\n",
        "    print(f\"Shape of image in a DataLoader is {image.shape}\")\n",
        "    print(f\"Shape of label in a DataLoader is {label.shape}\")\n",
        "    break\n",
        "print(f\"Now see we have one more dimension in image that contains nothing but the batch size. \\nAlso the label is now an 1D Tensor\")\n"
      ]
    },
    {
      "cell_type": "code",
      "execution_count": 96,
      "metadata": {
        "colab": {
          "base_uri": "https://localhost:8080/"
        },
        "id": "TnjOv7bVZk6y",
        "outputId": "833730b8-70ad-4961-f589-b281995a06b7"
      },
      "outputs": [],
      "source": [
        "#Building a multi-class classification model\n",
        "class ClassifyDigit(nn.Module):\n",
        "  def __init__(self,input_features: int,output_features: int):\n",
        "    \"\"\"Initializes all required hyperparameters for a multi-class classification model.\n",
        "    Args:\n",
        "         input_features (int): Number of input features to the model.\n",
        "         out_features (int)  : Number of output features of the model\n",
        "                               (how many classes there are).\n",
        "         hidden_units (int)  : Number of hidden units between layers, default 8.\n",
        "    \"\"\"\n",
        "    super().__init__()\n",
        "    self.linear_layer_stack = nn.Sequential(\n",
        "        nn.Flatten(),\n",
        "        nn.Linear(in_features=input_features,out_features=128),\n",
        "        nn.ReLU(),\n",
        "        nn.Linear(in_features=128,out_features=60),\n",
        "        nn.ReLU(),\n",
        "        nn.Linear(in_features=60,out_features=30),\n",
        "        nn.ReLU(),\n",
        "        nn.Linear(in_features=30,out_features=output_features)\n",
        "    )\n",
        "\n",
        "  def forward(self,x):\n",
        "    return self.linear_layer_stack(x)\n"
      ]
    },
    {
      "cell_type": "code",
      "execution_count": 97,
      "metadata": {},
      "outputs": [
        {
          "data": {
            "text/plain": [
              "ClassifyDigit(\n",
              "  (linear_layer_stack): Sequential(\n",
              "    (0): Flatten(start_dim=1, end_dim=-1)\n",
              "    (1): Linear(in_features=784, out_features=128, bias=True)\n",
              "    (2): ReLU()\n",
              "    (3): Linear(in_features=128, out_features=60, bias=True)\n",
              "    (4): ReLU()\n",
              "    (5): Linear(in_features=60, out_features=30, bias=True)\n",
              "    (6): ReLU()\n",
              "    (7): Linear(in_features=30, out_features=10, bias=True)\n",
              "  )\n",
              ")"
            ]
          },
          "execution_count": 97,
          "metadata": {},
          "output_type": "execute_result"
        }
      ],
      "source": [
        "# Creating an Instance of our Model.\n",
        "model= ClassifyDigit(input_features=784,\n",
        "                    output_features=len(train_data.classes))\n",
        "model"
      ]
    },
    {
      "cell_type": "code",
      "execution_count": 98,
      "metadata": {
        "colab": {
          "base_uri": "https://localhost:8080/"
        },
        "id": "TcKgv0vAHLYq",
        "outputId": "ee067127-68f6-417b-f8b6-5851126a67c3"
      },
      "outputs": [
        {
          "name": "stdout",
          "output_type": "stream",
          "text": [
            "The model output is :\n",
            "tensor([[-0.0249, -0.1205,  0.2018,  0.0590, -0.0645, -0.0525, -0.0303, -0.1664,\n",
            "          0.1326, -0.1727]], grad_fn=<AddmmBackward0>)\n",
            "------------------------\n",
            "But we want the probabilities\n",
            "------------------------\n",
            "Probability of each class is as follows:\n",
            "tensor([[0.0992, 0.0902, 0.1244, 0.1079, 0.0953, 0.0965, 0.0987, 0.0861, 0.1161,\n",
            "         0.0856]], grad_fn=<SoftmaxBackward0>)\n",
            "------------------------\n",
            "Sum of all probabilities is : \n",
            "0.9999998807907104\n",
            "The maximum probability is of class: \n",
            "2\n"
          ]
        }
      ],
      "source": [
        "#Doing a Random Forward Pass\n",
        "dummy_x = torch.rand([1,1,28,28])\n",
        "y_test=model(dummy_x)   #in output we get 10 logits(one logit per class)\n",
        "print(f\"The model output is :\\n{y_test}\")\n",
        "print(\"------------------------\")\n",
        "print(\"But we want the probabilities\")\n",
        "print(\"------------------------\")\n",
        "y_pred_probs = torch.softmax(y_test,dim=1)\n",
        "print(f\"Probability of each class is as follows:\\n{y_pred_probs}\")\n",
        "print(\"------------------------\")\n",
        "print(f\"Sum of all probabilities is : \\n{torch.sum(y_pred_probs)}\")\n",
        "print(f\"The maximum probability is of class: \\n{torch.argmax(y_pred_probs)}\")"
      ]
    },
    {
      "cell_type": "code",
      "execution_count": 100,
      "metadata": {
        "id": "bgyMCjP4HLGm"
      },
      "outputs": [],
      "source": [
        "#Setting up loss function and optimizer\n",
        "loss_fn = nn.CrossEntropyLoss()\n",
        "optimizer = torch.optim.Adam(params=model.parameters(),\n",
        "                            lr=0.001)"
      ]
    },
    {
      "cell_type": "code",
      "execution_count": 101,
      "metadata": {
        "id": "u8ZSH-MIHK21"
      },
      "outputs": [],
      "source": [
        "from timeit import default_timer as timer\n",
        "\n",
        "def print_train_time(start: float, end: float, device: torch.device = None):\n",
        "    \n",
        "    total_time = end - start\n",
        "    print(f\"Train time on {device}: {total_time:.3f} seconds\")\n",
        "    return total_time"
      ]
    },
    {
      "cell_type": "code",
      "execution_count": 102,
      "metadata": {
        "colab": {
          "base_uri": "https://localhost:8080/"
        },
        "id": "fsWArIskcQf-",
        "outputId": "11058eea-c355-4170-ed74-bd4d1fef9ff6"
      },
      "outputs": [
        {
          "name": "stdout",
          "output_type": "stream",
          "text": [
            "Epoch: 0\n",
            "---------\n",
            "Looked at 0/48000 samples\n",
            "Looked at 3200/48000 samples\n",
            "Looked at 6400/48000 samples\n",
            "Looked at 9600/48000 samples\n",
            "Looked at 12800/48000 samples\n",
            "Looked at 16000/48000 samples\n",
            "Looked at 19200/48000 samples\n",
            "Looked at 22400/48000 samples\n",
            "Looked at 25600/48000 samples\n",
            "Looked at 28800/48000 samples\n",
            "Looked at 32000/48000 samples\n",
            "Looked at 35200/48000 samples\n",
            "Looked at 38400/48000 samples\n",
            "Looked at 41600/48000 samples\n",
            "Looked at 44800/48000 samples\n",
            "\n",
            "Train loss: 0.36941 | Test loss: 0.19853\n",
            "\n",
            "Epoch: 1\n",
            "---------\n",
            "Looked at 0/48000 samples\n",
            "Looked at 3200/48000 samples\n",
            "Looked at 6400/48000 samples\n",
            "Looked at 9600/48000 samples\n",
            "Looked at 12800/48000 samples\n",
            "Looked at 16000/48000 samples\n",
            "Looked at 19200/48000 samples\n",
            "Looked at 22400/48000 samples\n",
            "Looked at 25600/48000 samples\n",
            "Looked at 28800/48000 samples\n",
            "Looked at 32000/48000 samples\n",
            "Looked at 35200/48000 samples\n",
            "Looked at 38400/48000 samples\n",
            "Looked at 41600/48000 samples\n",
            "Looked at 44800/48000 samples\n",
            "\n",
            "Train loss: 0.14897 | Test loss: 0.13019\n",
            "\n",
            "Epoch: 2\n",
            "---------\n",
            "Looked at 0/48000 samples\n",
            "Looked at 3200/48000 samples\n",
            "Looked at 6400/48000 samples\n",
            "Looked at 9600/48000 samples\n",
            "Looked at 12800/48000 samples\n",
            "Looked at 16000/48000 samples\n",
            "Looked at 19200/48000 samples\n",
            "Looked at 22400/48000 samples\n",
            "Looked at 25600/48000 samples\n",
            "Looked at 28800/48000 samples\n",
            "Looked at 32000/48000 samples\n",
            "Looked at 35200/48000 samples\n",
            "Looked at 38400/48000 samples\n",
            "Looked at 41600/48000 samples\n",
            "Looked at 44800/48000 samples\n",
            "\n",
            "Train loss: 0.10663 | Test loss: 0.10738\n",
            "\n",
            "Epoch: 3\n",
            "---------\n",
            "Looked at 0/48000 samples\n",
            "Looked at 3200/48000 samples\n",
            "Looked at 6400/48000 samples\n",
            "Looked at 9600/48000 samples\n",
            "Looked at 12800/48000 samples\n",
            "Looked at 16000/48000 samples\n",
            "Looked at 19200/48000 samples\n",
            "Looked at 22400/48000 samples\n",
            "Looked at 25600/48000 samples\n",
            "Looked at 28800/48000 samples\n",
            "Looked at 32000/48000 samples\n",
            "Looked at 35200/48000 samples\n",
            "Looked at 38400/48000 samples\n",
            "Looked at 41600/48000 samples\n",
            "Looked at 44800/48000 samples\n",
            "\n",
            "Train loss: 0.08095 | Test loss: 0.10778\n",
            "\n",
            "Epoch: 4\n",
            "---------\n",
            "Looked at 0/48000 samples\n",
            "Looked at 3200/48000 samples\n",
            "Looked at 6400/48000 samples\n",
            "Looked at 9600/48000 samples\n",
            "Looked at 12800/48000 samples\n",
            "Looked at 16000/48000 samples\n",
            "Looked at 19200/48000 samples\n",
            "Looked at 22400/48000 samples\n",
            "Looked at 25600/48000 samples\n",
            "Looked at 28800/48000 samples\n",
            "Looked at 32000/48000 samples\n",
            "Looked at 35200/48000 samples\n",
            "Looked at 38400/48000 samples\n",
            "Looked at 41600/48000 samples\n",
            "Looked at 44800/48000 samples\n",
            "\n",
            "Train loss: 0.06496 | Test loss: 0.10938\n",
            "\n",
            "Epoch: 5\n",
            "---------\n",
            "Looked at 0/48000 samples\n",
            "Looked at 3200/48000 samples\n",
            "Looked at 6400/48000 samples\n",
            "Looked at 9600/48000 samples\n",
            "Looked at 12800/48000 samples\n",
            "Looked at 16000/48000 samples\n",
            "Looked at 19200/48000 samples\n",
            "Looked at 22400/48000 samples\n",
            "Looked at 25600/48000 samples\n",
            "Looked at 28800/48000 samples\n",
            "Looked at 32000/48000 samples\n",
            "Looked at 35200/48000 samples\n",
            "Looked at 38400/48000 samples\n",
            "Looked at 41600/48000 samples\n",
            "Looked at 44800/48000 samples\n",
            "\n",
            "Train loss: 0.05184 | Test loss: 0.10172\n",
            "\n",
            "Epoch: 6\n",
            "---------\n",
            "Looked at 0/48000 samples\n",
            "Looked at 3200/48000 samples\n",
            "Looked at 6400/48000 samples\n",
            "Looked at 9600/48000 samples\n",
            "Looked at 12800/48000 samples\n",
            "Looked at 16000/48000 samples\n",
            "Looked at 19200/48000 samples\n",
            "Looked at 22400/48000 samples\n",
            "Looked at 25600/48000 samples\n",
            "Looked at 28800/48000 samples\n",
            "Looked at 32000/48000 samples\n",
            "Looked at 35200/48000 samples\n",
            "Looked at 38400/48000 samples\n",
            "Looked at 41600/48000 samples\n",
            "Looked at 44800/48000 samples\n",
            "\n",
            "Train loss: 0.04240 | Test loss: 0.09654\n",
            "\n",
            "Epoch: 7\n",
            "---------\n",
            "Looked at 0/48000 samples\n",
            "Looked at 3200/48000 samples\n",
            "Looked at 6400/48000 samples\n",
            "Looked at 9600/48000 samples\n",
            "Looked at 12800/48000 samples\n",
            "Looked at 16000/48000 samples\n",
            "Looked at 19200/48000 samples\n",
            "Looked at 22400/48000 samples\n",
            "Looked at 25600/48000 samples\n",
            "Looked at 28800/48000 samples\n",
            "Looked at 32000/48000 samples\n",
            "Looked at 35200/48000 samples\n",
            "Looked at 38400/48000 samples\n",
            "Looked at 41600/48000 samples\n",
            "Looked at 44800/48000 samples\n",
            "\n",
            "Train loss: 0.03469 | Test loss: 0.10803\n",
            "\n",
            "Train time on cpu: 115.388 seconds\n"
          ]
        }
      ],
      "source": [
        "# Set the seed and start the timer\n",
        "torch.manual_seed(42)\n",
        "train_time_start = timer()\n",
        "\n",
        "# Set the number of epochs\n",
        "epochs = 8\n",
        "epoch_array=[]\n",
        "train_loss_array=[]\n",
        "val_loss_array=[]\n",
        "# Create training and validation loop\n",
        "for epoch in range(epochs):\n",
        "  print(f\"Epoch: {epoch}\\n---------\")\n",
        "  epoch_array.append(epoch)\n",
        "  ### Training\n",
        "  train_loss=0\n",
        "  val_loss=0\n",
        "  # Add a loop to loop through training batches\n",
        "  for batch, (X, y) in enumerate(train_dataloader):   # Train data loader is one which has 60000/32 batches ,, (X,y):(Image,Label) ,  enumerate for keeping the track of number of batches we've been through.\n",
        "    model.train()\n",
        "    # 1. Forward Pass\n",
        "    y_train_logits = model(X)  #At this time we are feeding 32 images to our model.\n",
        "    y_pred = torch.softmax(y_train_logits,dim=1).argmax(dim=1)\n",
        "    # 2. Calculate the loss (per batch)\n",
        "    loss = loss_fn(y_train_logits, y)\n",
        "    train_loss += loss # accumulate train loss (this is train_loss over 32 images)\n",
        "\n",
        "    # 3. Optimizer zero grad\n",
        "    optimizer.zero_grad()\n",
        "\n",
        "    # 4. Loss backward\n",
        "    loss.backward()\n",
        "\n",
        "    # 5. Optimizer step\n",
        "    optimizer.step()\n",
        "    #Optimizeter will update the parameter per batch rathen than per epoch.\n",
        "\n",
        "    #Print out whats happening\n",
        "    if batch%100 ==0:\n",
        "      print(f\"Looked at {batch*len(X)}/{len(train_dataloader.dataset)} samples\") #len(X)->32 i.e. our batch size\n",
        "\n",
        "  # Divide total train loss by length of train dataloader\n",
        "  train_loss /= len(train_dataloader)  #Average loss per epochs\n",
        "  train_loss_array.append(train_loss.item())\n",
        "  \n",
        "  ### Testing on Validation set\n",
        "  model.eval()\n",
        "  with torch.inference_mode():\n",
        "    for X_test,y_test in val_dataloader:\n",
        "      #1. Forward pass\n",
        "      test_logits = model(X_test)\n",
        "      test_pred = torch.softmax(test_logits,dim=1).argmax(dim=1)\n",
        "      #2. Calculate the loss (accumualatively)\n",
        "      val_loss += loss_fn(test_logits,y_test)\n",
        "    # Calculate the Test_Loss average per batch\n",
        "    val_loss /= len(val_dataloader)\n",
        "    val_loss_array.append(val_loss.item())\n",
        "  # Print out what's happening\n",
        "\n",
        "  print(f\"\\nTrain loss: {train_loss:.5f} | Test loss: {val_loss:.5f}\\n\")\n",
        "  \n",
        "#Calulate the training time omn \"device\"\n",
        "train_time_end = timer()\n",
        "total_train_time_model = print_train_time(start=train_time_start , end=train_time_end, device=str(next(model.parameters()).device))"
      ]
    },
    {
      "cell_type": "code",
      "execution_count": 103,
      "metadata": {},
      "outputs": [
        {
          "name": "stdout",
          "output_type": "stream",
          "text": [
            "Epoch array \n",
            "[0, 1, 2, 3, 4, 5, 6, 7]\n",
            "Train Loss Array \n",
            "[0.36941227316856384, 0.14897479116916656, 0.10662808269262314, 0.08095221221446991, 0.06496313214302063, 0.051843903958797455, 0.04239530861377716, 0.034693021327257156]\n",
            "Validation Loss Array \n",
            "[0.1985262632369995, 0.13019418716430664, 0.10738319903612137, 0.10778146237134933, 0.10937541723251343, 0.10172024369239807, 0.09653639793395996, 0.10802966356277466]\n"
          ]
        },
        {
          "data": {
            "text/plain": [
              "<matplotlib.legend.Legend at 0x1f63ee25790>"
            ]
          },
          "execution_count": 103,
          "metadata": {},
          "output_type": "execute_result"
        },
        {
          "data": {
            "image/png": "[encoded data removed]",
            "text/plain": [
              "<Figure size 640x480 with 1 Axes>"
            ]
          },
          "metadata": {},
          "output_type": "display_data"
        }
      ],
      "source": [
        "#Ploting error vs epoch\n",
        "print(f\"Epoch array \\n{epoch_array}\")\n",
        "print(f\"Train Loss Array \\n{train_loss_array}\")\n",
        "print(f\"Validation Loss Array \\n{val_loss_array}\")\n",
        "plt.figure()\n",
        "plt.plot(epoch_array,train_loss_array,label='train loss curve')\n",
        "plt.plot(epoch_array,val_loss_array,label='validation loss curve')\n",
        "plt.legend()"
      ]
    },
    {
      "cell_type": "code",
      "execution_count": 104,
      "metadata": {
        "colab": {
          "base_uri": "https://localhost:8080/",
          "height": 1000
        },
        "id": "6tIlNh3NLcbH",
        "outputId": "66022e2c-b6cb-4cb5-cd4b-d0f899aeb1ab"
      },
      "outputs": [
        {
          "name": "stdout",
          "output_type": "stream",
          "text": [
            "For Batch 0 \n",
            "the predicted outputs are \n",
            "tensor([7, 2, 1, 0, 4, 1, 4, 9, 5, 9, 0, 6, 9, 0, 1, 5, 9, 7, 3, 4, 9, 6, 6, 5,\n",
            "        4, 0, 7, 4, 0, 1, 3, 1])\n",
            " and the original outputs are \n",
            "tensor([7, 2, 1, 0, 4, 1, 4, 9, 5, 9, 0, 6, 9, 0, 1, 5, 9, 7, 3, 4, 9, 6, 6, 5,\n",
            "        4, 0, 7, 4, 0, 1, 3, 1])\n",
            "For Batch 100 \n",
            "the predicted outputs are \n",
            "tensor([9, 2, 7, 1, 8, 8, 3, 2, 7, 6, 0, 1, 2, 7, 1, 0, 8, 3, 6, 0, 5, 3, 6, 2,\n",
            "        8, 9, 0, 1, 4, 2, 1, 1])\n",
            " and the original outputs are \n",
            "tensor([9, 2, 7, 1, 8, 8, 8, 2, 7, 6, 0, 1, 2, 7, 1, 0, 8, 3, 6, 0, 5, 3, 6, 2,\n",
            "        8, 7, 0, 1, 4, 2, 1, 1])\n",
            "For Batch 200 \n",
            "the predicted outputs are \n",
            "tensor([6, 9, 6, 8, 8, 5, 6, 1, 1, 9, 8, 9, 2, 3, 5, 5, 9, 4, 2, 1, 9, 3, 9, 2,\n",
            "        0, 6, 0, 4, 0, 0, 1, 2])\n",
            " and the original outputs are \n",
            "tensor([0, 9, 6, 8, 8, 5, 6, 1, 1, 9, 8, 9, 2, 3, 5, 5, 9, 4, 2, 1, 9, 3, 9, 2,\n",
            "        0, 6, 0, 4, 0, 0, 1, 2])\n",
            "For Batch 300 \n",
            "the predicted outputs are \n",
            "tensor([5, 0, 1, 2, 3, 4, 5, 6, 7, 8, 9, 0, 1, 2, 3, 4, 5, 6, 7, 8, 9, 0, 1, 2,\n",
            "        3, 4, 5, 6, 7, 8, 8, 0])\n",
            " and the original outputs are \n",
            "tensor([5, 0, 1, 2, 3, 4, 5, 6, 7, 8, 9, 0, 1, 2, 3, 4, 5, 6, 7, 8, 9, 0, 1, 2,\n",
            "        3, 4, 5, 6, 7, 8, 8, 0])\n",
            "\n",
            " \n",
            "The overall Accuracy is 97.03474426269531%\n"
          ]
        },
        {
          "data": {
            "image/png": "[encoded data removed]",
            "text/plain": [
              "<Figure size 640x480 with 1 Axes>"
            ]
          },
          "metadata": {},
          "output_type": "display_data"
        }
      ],
      "source": [
        "# Making Predictions\n",
        "model.eval()\n",
        "from torchmetrics import Accuracy\n",
        "from torchmetrics.classification import MulticlassConfusionMatrix\n",
        "\n",
        "accuracy_fn = Accuracy(\"multiclass\",num_classes=10)\n",
        "metric = MulticlassConfusionMatrix(num_classes=10)\n",
        "\n",
        "overall_acc=0\n",
        "y_pred=[]\n",
        "y_true=[]\n",
        "\n",
        "with torch.inference_mode():\n",
        "  for batch,(x,y) in enumerate(test_dataloader):\n",
        "    test_logits = model(x)\n",
        "    test_pred = torch.softmax(test_logits,dim=1).argmax(dim=1)\n",
        "    y_pred.append(test_pred)\n",
        "    y_true.append(y)\n",
        "    acc=accuracy_fn(test_pred,y)\n",
        "    overall_acc+=acc\n",
        "    if batch%100==0:\n",
        "      print(f\"For Batch {batch} \\nthe predicted outputs are \\n{test_pred}\\n and the original outputs are \\n{y}\")\n",
        "  print(f\"\\n \\nThe overall Accuracy is {(overall_acc/len(test_dataloader))*100}%\")\n",
        "  y_pred = torch.cat(y_pred)\n",
        "  y_true = torch.cat(y_true)\n",
        "  metric(y_pred,y_true)\n",
        "  metric.plot()"
      ]
    }
  ],
  "metadata": {
    "colab": {
      "provenance": []
    },
    "kernelspec": {
      "display_name": "Python 3",
      "name": "python3"
    },
    "language_info": {
      "codemirror_mode": {
        "name": "ipython",
        "version": 3
      },
      "file_extension": ".py",
      "mimetype": "text/x-python",
      "name": "python",
      "nbconvert_exporter": "python",
      "pygments_lexer": "ipython3",
      "version": "3.12.5"
    }
  },
  "nbformat": 4,
  "nbformat_minor": 0
}
