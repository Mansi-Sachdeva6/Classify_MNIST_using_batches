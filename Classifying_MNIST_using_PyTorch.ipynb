{
  "nbformat": 4,
  "nbformat_minor": 0,
  "metadata": {
    "colab": {
      "provenance": []
    },
    "kernelspec": {
      "name": "python3",
      "display_name": "Python 3"
    },
    "language_info": {
      "name": "python"
    }
  },
  "cells": [
    {
      "cell_type": "code",
      "execution_count": null,
      "metadata": {
        "id": "TVpCgF2PYS_M"
      },
      "outputs": [],
      "source": [
        "import torch\n",
        "from torch import nn\n",
        "import numpy as np\n",
        "import matplotlib.pyplot as plt\n",
        "\n",
        "import torchvision\n",
        "from torchvision import datasets\n",
        "from torchvision import transforms\n",
        "from torchvision.transforms import ToTensor\n",
        "\n",
        "#Setup training Data\n",
        "train_data = datasets.MNIST(\n",
        "    root=\"data\", # where to download data to ?\n",
        "    train=True,  # do we want the training dataset?\n",
        "    download=True, # do we want to download it?\n",
        "    transform=torchvision.transforms.ToTensor(),  # how we want to transform the data?\n",
        "    target_transform=None  # how do we want to transform the lables?\n",
        ")\n",
        "\n",
        "test_data = datasets.MNIST(\n",
        "    root=\"data\",\n",
        "    train=False,\n",
        "    download=True,\n",
        "    transform=torchvision.transforms.ToTensor(),\n",
        "    target_transform=None\n",
        ")"
      ]
    },
    {
      "cell_type": "code",
      "source": [
        "#Make Device Agnostic Code\n",
        "device = \"cuda\" if torch.cuda.is_available() else \"cpu\"\n",
        "device"
      ],
      "metadata": {
        "colab": {
          "base_uri": "https://localhost:8080/",
          "height": 36
        },
        "id": "XIiomeETJSkz",
        "outputId": "b77aad8a-e1c3-4a84-8717-cb6df977aac4"
      },
      "execution_count": null,
      "outputs": [
        {
          "output_type": "execute_result",
          "data": {
            "text/plain": [
              "'cpu'"
            ],
            "application/vnd.google.colaboratory.intrinsic+json": {
              "type": "string"
            }
          },
          "metadata": {},
          "execution_count": 25
        }
      ]
    },
    {
      "cell_type": "code",
      "source": [
        "image,label = train_data[0]\n",
        "image.shape,label"
      ],
      "metadata": {
        "id": "aIL0tSg7dp00",
        "outputId": "6ffa0271-5c64-4634-9bd9-e0123af96672",
        "colab": {
          "base_uri": "https://localhost:8080/"
        }
      },
      "execution_count": null,
      "outputs": [
        {
          "output_type": "execute_result",
          "data": {
            "text/plain": [
              "(torch.Size([1, 28, 28]), 5)"
            ]
          },
          "metadata": {},
          "execution_count": 26
        }
      ]
    },
    {
      "cell_type": "code",
      "source": [
        "len(train_data.targets)"
      ],
      "metadata": {
        "colab": {
          "base_uri": "https://localhost:8080/"
        },
        "id": "uU-gE6rdFAXz",
        "outputId": "f8577c10-37cc-41f2-bbb4-dabdc6340ebb"
      },
      "execution_count": null,
      "outputs": [
        {
          "output_type": "execute_result",
          "data": {
            "text/plain": [
              "60000"
            ]
          },
          "metadata": {},
          "execution_count": 27
        }
      ]
    },
    {
      "cell_type": "code",
      "source": [
        "train_data.classes"
      ],
      "metadata": {
        "colab": {
          "base_uri": "https://localhost:8080/"
        },
        "id": "OSlrFrX9H5pn",
        "outputId": "538d32d7-d83a-483a-a7fc-51ad713f4ab1"
      },
      "execution_count": null,
      "outputs": [
        {
          "output_type": "execute_result",
          "data": {
            "text/plain": [
              "['0 - zero',\n",
              " '1 - one',\n",
              " '2 - two',\n",
              " '3 - three',\n",
              " '4 - four',\n",
              " '5 - five',\n",
              " '6 - six',\n",
              " '7 - seven',\n",
              " '8 - eight',\n",
              " '9 - nine']"
            ]
          },
          "metadata": {},
          "execution_count": 28
        }
      ]
    },
    {
      "cell_type": "code",
      "source": [
        "import matplotlib.pyplot as plt\n",
        "\n",
        "print(f\"Image shape: {image.shape}\")\n",
        "plt.imshow(image.squeeze(), cmap=\"gray\")\n",
        "plt.title(label)\n",
        "plt.show()"
      ],
      "metadata": {
        "colab": {
          "base_uri": "https://localhost:8080/",
          "height": 469
        },
        "id": "JiXN-AxGFYzP",
        "outputId": "76f5b68c-8501-4846-842a-7ff2f5b6d9ec"
      },
      "execution_count": null,
      "outputs": [
        {
          "output_type": "stream",
          "name": "stdout",
          "text": [
            "Image shape: torch.Size([1, 28, 28])\n"
          ]
        },
        {
          "output_type": "display_data",
          "data": {
            "text/plain": [
              "<Figure size 640x480 with 1 Axes>"
            ],
            "image/png": "[encoded data removed]"
          },
          "metadata": {}
        }
      ]
    },
    {
      "cell_type": "code",
      "source": [
        "from torch.utils.data import random_split\n",
        "\n",
        "# Define the lengths for training and validation\n",
        "train_size = int(0.8 * len(train_data))  # 80% for training\n",
        "val_size = len(train_data) - train_size   # 20% for validation\n",
        "\n",
        "# Randomly split dataset\n",
        "train_dataset, val_dataset = random_split(train_data, [train_size, val_size])"
      ],
      "metadata": {
        "id": "C5rSNMb_eFp4"
      },
      "execution_count": null,
      "outputs": []
    },
    {
      "cell_type": "code",
      "source": [
        "#Let's create a DataLoader's for our training and test sets\n",
        "\n",
        "from torch.utils.data import DataLoader\n",
        "\n",
        "# Setup batch size hyperparameter\n",
        "BATCH_SIZE = 32\n",
        "\n",
        "# Turn datasets into iterables (batches)\n",
        "train_dataloader = DataLoader(train_dataset, # dataset to turn into iterable\n",
        "                              batch_size=BATCH_SIZE,# how many samples per batch?\n",
        "                              shuffle=True)# shuffle data every epoch?\n",
        "val_dataloader = DataLoader(val_dataset, batch_size=BATCH_SIZE, shuffle=False)\n",
        "test_dataloader = DataLoader(test_data, batch_size=BATCH_SIZE, shuffle=False)\n",
        "\n",
        "#Let's checkout what we've created\n",
        "print(f\"Dataloaders: {train_dataloader, test_dataloader}\")\n",
        "print(f\"Length of train dataloader: {len(train_dataloader)} batches of {BATCH_SIZE}\")\n",
        "print(f\"Length of val dataloader: {len(val_dataloader)} batches of {BATCH_SIZE}\")\n",
        "print(f\"Length of test dataloader: {len(test_dataloader)} batches of {BATCH_SIZE}\")\n"
      ],
      "metadata": {
        "colab": {
          "base_uri": "https://localhost:8080/"
        },
        "id": "Mji8EPnwGVA2",
        "outputId": "5606075c-12af-4aeb-8a8f-6328a6b9717a"
      },
      "execution_count": null,
      "outputs": [
        {
          "output_type": "stream",
          "name": "stdout",
          "text": [
            "Dataloaders: (<torch.utils.data.dataloader.DataLoader object at 0x7ec029ba59f0>, <torch.utils.data.dataloader.DataLoader object at 0x7ec029ba7820>)\n",
            "Length of train dataloader: 1500 batches of 32\n",
            "Length of val dataloader: 375 batches of 32\n",
            "Length of test dataloader: 313 batches of 32\n"
          ]
        }
      ]
    },
    {
      "cell_type": "code",
      "source": [
        "#Building a multi-class classification model\n",
        "class ClassifyDigit(nn.Module):\n",
        "  def __init__(self,input_features: int,output_features: int):\n",
        "    \"\"\"Initializes all required hyperparameters for a multi-class classification model.\n",
        "    Args:\n",
        "         input_features (int): Number of input features to the model.\n",
        "         out_features (int)  : Number of output features of the model\n",
        "                               (how many classes there are).\n",
        "         hidden_units (int)  : Number of hidden units between layers, default 8.\n",
        "    \"\"\"\n",
        "    super().__init__()\n",
        "    self.linear_layer_stack = nn.Sequential(\n",
        "        nn.Flatten(),\n",
        "        nn.Linear(in_features=input_features,out_features=128),\n",
        "        nn.ReLU(),\n",
        "        nn.Linear(in_features=128,out_features=60),\n",
        "        nn.ReLU(),\n",
        "        nn.Linear(in_features=60,out_features=30),\n",
        "        nn.ReLU(),\n",
        "        nn.Linear(in_features=30,out_features=output_features)\n",
        "    )\n",
        "\n",
        "  def forward(self,x):\n",
        "    return self.linear_layer_stack(x)\n",
        "\n",
        "# Creating an Instance of our Model.\n",
        "model= ClassifyDigit(input_features=784,\n",
        "                    output_features=len(train_data.classes)).to(device)\n",
        "model\n"
      ],
      "metadata": {
        "colab": {
          "base_uri": "https://localhost:8080/"
        },
        "id": "TnjOv7bVZk6y",
        "outputId": "833730b8-70ad-4961-f589-b281995a06b7"
      },
      "execution_count": null,
      "outputs": [
        {
          "output_type": "execute_result",
          "data": {
            "text/plain": [
              "ClassifyDigit(\n",
              "  (linear_layer_stack): Sequential(\n",
              "    (0): Flatten(start_dim=1, end_dim=-1)\n",
              "    (1): Linear(in_features=784, out_features=128, bias=True)\n",
              "    (2): ReLU()\n",
              "    (3): Linear(in_features=128, out_features=60, bias=True)\n",
              "    (4): ReLU()\n",
              "    (5): Linear(in_features=60, out_features=30, bias=True)\n",
              "    (6): ReLU()\n",
              "    (7): Linear(in_features=30, out_features=10, bias=True)\n",
              "  )\n",
              ")"
            ]
          },
          "metadata": {},
          "execution_count": 32
        }
      ]
    },
    {
      "cell_type": "code",
      "source": [
        "dummy_x = torch.rand([1,1,28,28]).to(device)\n",
        "y_test=model(dummy_x)   #in output we get 10 logits(one logit per class)\n",
        "y_test"
      ],
      "metadata": {
        "colab": {
          "base_uri": "https://localhost:8080/"
        },
        "id": "TcKgv0vAHLYq",
        "outputId": "ee067127-68f6-417b-f8b6-5851126a67c3"
      },
      "execution_count": null,
      "outputs": [
        {
          "output_type": "execute_result",
          "data": {
            "text/plain": [
              "tensor([[ 0.2025, -0.0647, -0.0994, -0.0440, -0.1758,  0.1492,  0.0521, -0.1023,\n",
              "          0.1537, -0.0129]], grad_fn=<AddmmBackward0>)"
            ]
          },
          "metadata": {},
          "execution_count": 33
        }
      ]
    },
    {
      "cell_type": "code",
      "source": [
        "y_pred_probs = torch.softmax(y_test,dim=1)\n",
        "print(f\"{y_test}\\n{y_pred_probs}\")\n",
        "print(torch.sum(y_pred_probs))\n",
        "print(torch.argmax(y_pred_probs))"
      ],
      "metadata": {
        "colab": {
          "base_uri": "https://localhost:8080/"
        },
        "id": "b_cq6HW3Gb4j",
        "outputId": "1a3a9862-ed8c-403d-dacb-66d87bedf43e"
      },
      "execution_count": null,
      "outputs": [
        {
          "output_type": "stream",
          "name": "stdout",
          "text": [
            "tensor([[ 0.2025, -0.0647, -0.0994, -0.0440, -0.1758,  0.1492,  0.0521, -0.1023,\n",
            "          0.1537, -0.0129]], grad_fn=<AddmmBackward0>)\n",
            "tensor([[0.1208, 0.0925, 0.0893, 0.0944, 0.0828, 0.1146, 0.1040, 0.0891, 0.1151,\n",
            "         0.0974]], grad_fn=<SoftmaxBackward0>)\n",
            "tensor(1., grad_fn=<SumBackward0>)\n",
            "tensor(0)\n"
          ]
        }
      ]
    },
    {
      "cell_type": "code",
      "source": [
        "#Setting up loss function and optimizer\n",
        "loss_fn = nn.CrossEntropyLoss()\n",
        "optimizer = torch.optim.Adam(params=model.parameters(),\n",
        "                            lr=0.01)"
      ],
      "metadata": {
        "id": "bgyMCjP4HLGm"
      },
      "execution_count": null,
      "outputs": []
    },
    {
      "cell_type": "code",
      "source": [
        "from timeit import default_timer as timer\n",
        "def print_train_time(start: float, end: float, device: torch.device = None):\n",
        "    \"\"\"Prints difference between start and end time.\n",
        "\n",
        "    Args:\n",
        "        start (float): Start time of computation (preferred in timeit format).\n",
        "        end (float): End time of computation.\n",
        "        device ([type], optional): Device that compute is running on. Defaults to None.\n",
        "\n",
        "    Returns:\n",
        "        float: time between start and end in seconds (higher is longer).\n",
        "    \"\"\"\n",
        "    total_time = end - start\n",
        "    print(f\"Train time on {device}: {total_time:.3f} seconds\")\n",
        "    return total_time"
      ],
      "metadata": {
        "id": "u8ZSH-MIHK21"
      },
      "execution_count": null,
      "outputs": []
    },
    {
      "cell_type": "code",
      "source": [
        "for i,(x,y) in enumerate(train_dataloader):\n",
        "  print(f\"{i} -> {y}\")\n",
        "  break"
      ],
      "metadata": {
        "colab": {
          "base_uri": "https://localhost:8080/"
        },
        "id": "qb5uWi1PJCrV",
        "outputId": "f48ab4d5-f2ef-432b-a86a-bdd90dc42963"
      },
      "execution_count": null,
      "outputs": [
        {
          "output_type": "stream",
          "name": "stdout",
          "text": [
            "0 -> tensor([0, 1, 5, 6, 3, 7, 4, 2, 7, 9, 1, 6, 9, 7, 7, 5, 0, 5, 9, 8, 3, 7, 3, 9,\n",
            "        6, 6, 3, 1, 9, 3, 1, 2])\n"
          ]
        }
      ]
    },
    {
      "cell_type": "code",
      "source": [
        "len(train_dataloader),len(val_dataloader)"
      ],
      "metadata": {
        "colab": {
          "base_uri": "https://localhost:8080/"
        },
        "id": "1E7VNyR9btHN",
        "outputId": "c60c1961-bb22-44cb-ea33-cfec3de05007"
      },
      "execution_count": null,
      "outputs": [
        {
          "output_type": "execute_result",
          "data": {
            "text/plain": [
              "(1500, 375)"
            ]
          },
          "metadata": {},
          "execution_count": 38
        }
      ]
    },
    {
      "cell_type": "code",
      "source": [
        "import numpy as np\n",
        "# Set the seed and start the timer\n",
        "torch.manual_seed(42)\n",
        "train_time_start = timer()\n",
        "\n",
        "# Set the number of epochs (we'll keep this small for faster traing time)\n",
        "epochs = 10\n",
        "train_loss=0\n",
        "val_loss=0\n",
        "# Create training and test loop\n",
        "for epoch in range(epochs):\n",
        "  print(f\"Epoch: {epoch}\\n---------\")\n",
        "\n",
        "  ### Training\n",
        "  # Add a loop to loop through training batches\n",
        "  for batch, (X, y) in enumerate(train_dataloader):   # Train data loader is one which has 60000/32 batches ,, (X,y):(Image,Label) ,  enumerate for keeping the track of number of batches we've been through.\n",
        "    model.train()\n",
        "    # 1. Forward Pass\n",
        "    y_train_logits = model(X.to(device))\n",
        "    y_pred = torch.softmax(y_train_logits,dim=1).argmax(dim=1)\n",
        "    # 2. Calculate the loss (per batch)\n",
        "    loss = loss_fn(y_train_logits, y.to(device))\n",
        "    train_loss += loss # accumulate train loss\n",
        "\n",
        "    # 3. Optimizer zero grad\n",
        "    optimizer.zero_grad()\n",
        "\n",
        "    # 4. Loss backward\n",
        "    loss.backward()\n",
        "\n",
        "    # 5. Optimizer step\n",
        "    optimizer.step()\n",
        "    #Optimizeter will update the parameter per batch rathen than per epoch.\n",
        "\n",
        "    #Print out whats happening\n",
        "    if batch%100 ==0:\n",
        "      print(f\"Looked at {batch*len(X)}/{len(train_dataloader.dataset)} samples\") #len(X)->32\n",
        "\n",
        "  # Divide total train loss by length of train dataloader\n",
        "  train_loss /= len(train_dataloader)  #Average loss per epochs\n",
        "  print(train_loss)\n",
        "\n",
        "  ### Testing\n",
        "  model.eval()\n",
        "  with torch.inference_mode():\n",
        "    for X_test,y_test in val_dataloader:\n",
        "      #1. Forward pass\n",
        "      test_logits = model(X_test.to(device))\n",
        "      test_pred = torch.softmax(test_logits,dim=1).argmax(dim=1)\n",
        "      #2. Calculate the loss (accumualatively)\n",
        "      val_loss += loss_fn(test_logits,y_test.to(device))\n",
        "    # Calculate the Test_Loss average per batch\n",
        "    val_loss /= len(val_dataloader)\n",
        "  # Print out what's happening\n",
        "\n",
        "  print(f\"\\nTrain loss: {train_loss:.5f} | Test loss: {val_loss:.5f}\\n\")\n",
        "\n",
        "#Calulate the training time omn \"device\"\n",
        "train_time_end = timer()\n",
        "total_train_time_model = print_train_time(start=train_time_start , end=train_time_end, device=str(next(model.parameters()).device))"
      ],
      "metadata": {
        "id": "fsWArIskcQf-",
        "colab": {
          "base_uri": "https://localhost:8080/"
        },
        "outputId": "11058eea-c355-4170-ed74-bd4d1fef9ff6"
      },
      "execution_count": null,
      "outputs": [
        {
          "output_type": "stream",
          "name": "stdout",
          "text": [
            "Epoch: 0\n",
            "---------\n",
            "Looked at 0/48000 samples\n",
            "Looked at 3200/48000 samples\n",
            "Looked at 6400/48000 samples\n",
            "Looked at 9600/48000 samples\n",
            "Looked at 12800/48000 samples\n",
            "Looked at 16000/48000 samples\n",
            "Looked at 19200/48000 samples\n",
            "Looked at 22400/48000 samples\n",
            "Looked at 25600/48000 samples\n",
            "Looked at 28800/48000 samples\n",
            "Looked at 32000/48000 samples\n",
            "Looked at 35200/48000 samples\n",
            "Looked at 38400/48000 samples\n",
            "Looked at 41600/48000 samples\n",
            "Looked at 44800/48000 samples\n",
            "tensor(0.3129, grad_fn=<DivBackward0>)\n",
            "\n",
            "Train loss: 0.31287 | Test loss: 0.23745\n",
            "\n",
            "Epoch: 1\n",
            "---------\n",
            "Looked at 0/48000 samples\n",
            "Looked at 3200/48000 samples\n",
            "Looked at 6400/48000 samples\n",
            "Looked at 9600/48000 samples\n",
            "Looked at 12800/48000 samples\n",
            "Looked at 16000/48000 samples\n",
            "Looked at 19200/48000 samples\n",
            "Looked at 22400/48000 samples\n",
            "Looked at 25600/48000 samples\n",
            "Looked at 28800/48000 samples\n",
            "Looked at 32000/48000 samples\n",
            "Looked at 35200/48000 samples\n",
            "Looked at 38400/48000 samples\n",
            "Looked at 41600/48000 samples\n",
            "Looked at 44800/48000 samples\n",
            "tensor(0.1893, grad_fn=<DivBackward0>)\n",
            "\n",
            "Train loss: 0.18925 | Test loss: 0.19012\n",
            "\n",
            "Epoch: 2\n",
            "---------\n",
            "Looked at 0/48000 samples\n",
            "Looked at 3200/48000 samples\n",
            "Looked at 6400/48000 samples\n",
            "Looked at 9600/48000 samples\n",
            "Looked at 12800/48000 samples\n",
            "Looked at 16000/48000 samples\n",
            "Looked at 19200/48000 samples\n",
            "Looked at 22400/48000 samples\n",
            "Looked at 25600/48000 samples\n",
            "Looked at 28800/48000 samples\n",
            "Looked at 32000/48000 samples\n",
            "Looked at 35200/48000 samples\n",
            "Looked at 38400/48000 samples\n",
            "Looked at 41600/48000 samples\n",
            "Looked at 44800/48000 samples\n",
            "tensor(0.1569, grad_fn=<DivBackward0>)\n",
            "\n",
            "Train loss: 0.15692 | Test loss: 0.20463\n",
            "\n",
            "Epoch: 3\n",
            "---------\n",
            "Looked at 0/48000 samples\n",
            "Looked at 3200/48000 samples\n",
            "Looked at 6400/48000 samples\n",
            "Looked at 9600/48000 samples\n",
            "Looked at 12800/48000 samples\n",
            "Looked at 16000/48000 samples\n",
            "Looked at 19200/48000 samples\n",
            "Looked at 22400/48000 samples\n",
            "Looked at 25600/48000 samples\n",
            "Looked at 28800/48000 samples\n",
            "Looked at 32000/48000 samples\n",
            "Looked at 35200/48000 samples\n",
            "Looked at 38400/48000 samples\n",
            "Looked at 41600/48000 samples\n",
            "Looked at 44800/48000 samples\n",
            "tensor(0.1380, grad_fn=<DivBackward0>)\n",
            "\n",
            "Train loss: 0.13797 | Test loss: 0.17522\n",
            "\n",
            "Epoch: 4\n",
            "---------\n",
            "Looked at 0/48000 samples\n",
            "Looked at 3200/48000 samples\n",
            "Looked at 6400/48000 samples\n",
            "Looked at 9600/48000 samples\n",
            "Looked at 12800/48000 samples\n",
            "Looked at 16000/48000 samples\n",
            "Looked at 19200/48000 samples\n",
            "Looked at 22400/48000 samples\n",
            "Looked at 25600/48000 samples\n",
            "Looked at 28800/48000 samples\n",
            "Looked at 32000/48000 samples\n",
            "Looked at 35200/48000 samples\n",
            "Looked at 38400/48000 samples\n",
            "Looked at 41600/48000 samples\n",
            "Looked at 44800/48000 samples\n",
            "tensor(0.1359, grad_fn=<DivBackward0>)\n",
            "\n",
            "Train loss: 0.13589 | Test loss: 0.20321\n",
            "\n",
            "Epoch: 5\n",
            "---------\n",
            "Looked at 0/48000 samples\n",
            "Looked at 3200/48000 samples\n",
            "Looked at 6400/48000 samples\n",
            "Looked at 9600/48000 samples\n",
            "Looked at 12800/48000 samples\n",
            "Looked at 16000/48000 samples\n",
            "Looked at 19200/48000 samples\n",
            "Looked at 22400/48000 samples\n",
            "Looked at 25600/48000 samples\n",
            "Looked at 28800/48000 samples\n",
            "Looked at 32000/48000 samples\n",
            "Looked at 35200/48000 samples\n",
            "Looked at 38400/48000 samples\n",
            "Looked at 41600/48000 samples\n",
            "Looked at 44800/48000 samples\n",
            "tensor(0.1232, grad_fn=<DivBackward0>)\n",
            "\n",
            "Train loss: 0.12320 | Test loss: 0.18303\n",
            "\n",
            "Epoch: 6\n",
            "---------\n",
            "Looked at 0/48000 samples\n",
            "Looked at 3200/48000 samples\n",
            "Looked at 6400/48000 samples\n",
            "Looked at 9600/48000 samples\n",
            "Looked at 12800/48000 samples\n",
            "Looked at 16000/48000 samples\n",
            "Looked at 19200/48000 samples\n",
            "Looked at 22400/48000 samples\n",
            "Looked at 25600/48000 samples\n",
            "Looked at 28800/48000 samples\n",
            "Looked at 32000/48000 samples\n",
            "Looked at 35200/48000 samples\n",
            "Looked at 38400/48000 samples\n",
            "Looked at 41600/48000 samples\n",
            "Looked at 44800/48000 samples\n",
            "tensor(0.1172, grad_fn=<DivBackward0>)\n",
            "\n",
            "Train loss: 0.11717 | Test loss: 0.19393\n",
            "\n",
            "Epoch: 7\n",
            "---------\n",
            "Looked at 0/48000 samples\n",
            "Looked at 3200/48000 samples\n",
            "Looked at 6400/48000 samples\n",
            "Looked at 9600/48000 samples\n",
            "Looked at 12800/48000 samples\n",
            "Looked at 16000/48000 samples\n",
            "Looked at 19200/48000 samples\n",
            "Looked at 22400/48000 samples\n",
            "Looked at 25600/48000 samples\n",
            "Looked at 28800/48000 samples\n",
            "Looked at 32000/48000 samples\n",
            "Looked at 35200/48000 samples\n",
            "Looked at 38400/48000 samples\n",
            "Looked at 41600/48000 samples\n",
            "Looked at 44800/48000 samples\n",
            "tensor(0.1137, grad_fn=<DivBackward0>)\n",
            "\n",
            "Train loss: 0.11368 | Test loss: 0.18529\n",
            "\n",
            "Epoch: 8\n",
            "---------\n",
            "Looked at 0/48000 samples\n",
            "Looked at 3200/48000 samples\n",
            "Looked at 6400/48000 samples\n",
            "Looked at 9600/48000 samples\n",
            "Looked at 12800/48000 samples\n",
            "Looked at 16000/48000 samples\n",
            "Looked at 19200/48000 samples\n",
            "Looked at 22400/48000 samples\n",
            "Looked at 25600/48000 samples\n",
            "Looked at 28800/48000 samples\n",
            "Looked at 32000/48000 samples\n",
            "Looked at 35200/48000 samples\n",
            "Looked at 38400/48000 samples\n",
            "Looked at 41600/48000 samples\n",
            "Looked at 44800/48000 samples\n",
            "tensor(0.1048, grad_fn=<DivBackward0>)\n",
            "\n",
            "Train loss: 0.10482 | Test loss: 0.20084\n",
            "\n",
            "Epoch: 9\n",
            "---------\n",
            "Looked at 0/48000 samples\n",
            "Looked at 3200/48000 samples\n",
            "Looked at 6400/48000 samples\n",
            "Looked at 9600/48000 samples\n",
            "Looked at 12800/48000 samples\n",
            "Looked at 16000/48000 samples\n",
            "Looked at 19200/48000 samples\n",
            "Looked at 22400/48000 samples\n",
            "Looked at 25600/48000 samples\n",
            "Looked at 28800/48000 samples\n",
            "Looked at 32000/48000 samples\n",
            "Looked at 35200/48000 samples\n",
            "Looked at 38400/48000 samples\n",
            "Looked at 41600/48000 samples\n",
            "Looked at 44800/48000 samples\n",
            "tensor(0.1231, grad_fn=<DivBackward0>)\n",
            "\n",
            "Train loss: 0.12311 | Test loss: 0.28273\n",
            "\n",
            "Train time on cpu: 146.359 seconds\n"
          ]
        }
      ]
    },
    {
      "cell_type": "code",
      "source": [
        "!pip install torchmetrics"
      ],
      "metadata": {
        "colab": {
          "base_uri": "https://localhost:8080/"
        },
        "id": "BXoZTTc7myxR",
        "outputId": "a5037f09-ce4d-4441-8414-540dc58f0143"
      },
      "execution_count": null,
      "outputs": [
        {
          "output_type": "stream",
          "name": "stdout",
          "text": [
            "Requirement already satisfied: torchmetrics in /usr/local/lib/python3.10/dist-packages (1.4.2)\n",
            "Requirement already satisfied: numpy>1.20.0 in /usr/local/lib/python3.10/dist-packages (from torchmetrics) (1.26.4)\n",
            "Requirement already satisfied: packaging>17.1 in /usr/local/lib/python3.10/dist-packages (from torchmetrics) (24.1)\n",
            "Requirement already satisfied: torch>=1.10.0 in /usr/local/lib/python3.10/dist-packages (from torchmetrics) (2.4.1+cu121)\n",
            "Requirement already satisfied: lightning-utilities>=0.8.0 in /usr/local/lib/python3.10/dist-packages (from torchmetrics) (0.11.7)\n",
            "Requirement already satisfied: setuptools in /usr/local/lib/python3.10/dist-packages (from lightning-utilities>=0.8.0->torchmetrics) (71.0.4)\n",
            "Requirement already satisfied: typing-extensions in /usr/local/lib/python3.10/dist-packages (from lightning-utilities>=0.8.0->torchmetrics) (4.12.2)\n",
            "Requirement already satisfied: filelock in /usr/local/lib/python3.10/dist-packages (from torch>=1.10.0->torchmetrics) (3.16.1)\n",
            "Requirement already satisfied: sympy in /usr/local/lib/python3.10/dist-packages (from torch>=1.10.0->torchmetrics) (1.13.3)\n",
            "Requirement already satisfied: networkx in /usr/local/lib/python3.10/dist-packages (from torch>=1.10.0->torchmetrics) (3.3)\n",
            "Requirement already satisfied: jinja2 in /usr/local/lib/python3.10/dist-packages (from torch>=1.10.0->torchmetrics) (3.1.4)\n",
            "Requirement already satisfied: fsspec in /usr/local/lib/python3.10/dist-packages (from torch>=1.10.0->torchmetrics) (2024.6.1)\n",
            "Requirement already satisfied: MarkupSafe>=2.0 in /usr/local/lib/python3.10/dist-packages (from jinja2->torch>=1.10.0->torchmetrics) (2.1.5)\n",
            "Requirement already satisfied: mpmath<1.4,>=1.1.0 in /usr/local/lib/python3.10/dist-packages (from sympy->torch>=1.10.0->torchmetrics) (1.3.0)\n"
          ]
        }
      ]
    },
    {
      "cell_type": "code",
      "source": [
        "# Making Predictions\n",
        "model.eval()\n",
        "from torchmetrics import Accuracy\n",
        "from torchmetrics.classification import MulticlassConfusionMatrix\n",
        "\n",
        "accuracy_fn = Accuracy(\"multiclass\",num_classes=10).to(device)\n",
        "metric = MulticlassConfusionMatrix(num_classes=10).to(device)\n",
        "\n",
        "overall_acc=0\n",
        "y_pred=[]\n",
        "y_true=[]\n",
        "\n",
        "with torch.inference_mode():\n",
        "  for batch,(x,y) in enumerate(test_dataloader):\n",
        "    test_logits = model(x.to(device))\n",
        "    test_pred = torch.softmax(test_logits,dim=1).argmax(dim=1)\n",
        "    y_pred.append(test_pred)\n",
        "    y_true.append(y)\n",
        "    acc=accuracy_fn(test_pred,y)\n",
        "    overall_acc+=acc\n",
        "    if batch%100==0:\n",
        "      print(f\"For Batch {batch} \\nthe predicted outputs are \\n{test_pred}\\n and the original outputs are \\n{y}\")\n",
        "  print(f\"\\n \\nThe overall Accuracy is {(overall_acc/len(test_dataloader))*100}%\")\n",
        "  y_pred = torch.cat(y_pred)\n",
        "  y_true = torch.cat(y_true)\n",
        "  metric(y_pred,y_true)\n",
        "  metric.plot()"
      ],
      "metadata": {
        "colab": {
          "base_uri": "https://localhost:8080/",
          "height": 1000
        },
        "id": "6tIlNh3NLcbH",
        "outputId": "66022e2c-b6cb-4cb5-cd4b-d0f899aeb1ab"
      },
      "execution_count": null,
      "outputs": [
        {
          "output_type": "stream",
          "name": "stdout",
          "text": [
            "For Batch 0 \n",
            "the predicted outputs are \n",
            "tensor([7, 2, 1, 0, 4, 1, 4, 9, 8, 9, 0, 6, 9, 0, 1, 5, 9, 7, 3, 4, 9, 6, 6, 5,\n",
            "        4, 0, 7, 4, 0, 1, 3, 1])\n",
            " and the original outputs are \n",
            "tensor([7, 2, 1, 0, 4, 1, 4, 9, 5, 9, 0, 6, 9, 0, 1, 5, 9, 7, 3, 4, 9, 6, 6, 5,\n",
            "        4, 0, 7, 4, 0, 1, 3, 1])\n",
            "For Batch 100 \n",
            "the predicted outputs are \n",
            "tensor([9, 2, 7, 1, 8, 8, 3, 2, 7, 6, 0, 1, 2, 7, 1, 0, 8, 3, 6, 0, 5, 3, 6, 2,\n",
            "        8, 7, 0, 1, 4, 2, 1, 1])\n",
            " and the original outputs are \n",
            "tensor([9, 2, 7, 1, 8, 8, 8, 2, 7, 6, 0, 1, 2, 7, 1, 0, 8, 3, 6, 0, 5, 3, 6, 2,\n",
            "        8, 7, 0, 1, 4, 2, 1, 1])\n",
            "For Batch 200 \n",
            "the predicted outputs are \n",
            "tensor([8, 9, 6, 8, 8, 5, 6, 1, 1, 9, 8, 9, 2, 3, 5, 5, 9, 4, 2, 1, 9, 2, 9, 2,\n",
            "        0, 6, 2, 4, 0, 0, 1, 2])\n",
            " and the original outputs are \n",
            "tensor([0, 9, 6, 8, 8, 5, 6, 1, 1, 9, 8, 9, 2, 3, 5, 5, 9, 4, 2, 1, 9, 3, 9, 2,\n",
            "        0, 6, 0, 4, 0, 0, 1, 2])\n",
            "For Batch 300 \n",
            "the predicted outputs are \n",
            "tensor([5, 0, 1, 2, 3, 4, 5, 6, 7, 8, 9, 0, 1, 2, 3, 4, 5, 6, 7, 8, 9, 0, 1, 2,\n",
            "        3, 4, 5, 6, 7, 8, 8, 0])\n",
            " and the original outputs are \n",
            "tensor([5, 0, 1, 2, 3, 4, 5, 6, 7, 8, 9, 0, 1, 2, 3, 4, 5, 6, 7, 8, 9, 0, 1, 2,\n",
            "        3, 4, 5, 6, 7, 8, 8, 0])\n",
            "\n",
            " \n",
            "The overall Accuracy is 96.01637268066406%\n"
          ]
        },
        {
          "output_type": "display_data",
          "data": {
            "text/plain": [
              "<Figure size 640x480 with 1 Axes>"
            ],
            "image/png": "[encoded data removed]"
          },
          "metadata": {}
        }
      ]
    }
  ]
}